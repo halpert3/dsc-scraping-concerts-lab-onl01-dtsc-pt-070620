{
 "cells": [
  {
   "cell_type": "markdown",
   "metadata": {},
   "source": [
    "# Scraping Concerts - Lab\n",
    "\n",
    "## Introduction\n",
    "\n",
    "Now that you've seen how to scrape a simple website, it's time to again practice those skills on a full-fledged site!\n",
    "In this lab, you'll practice your scraping skills on a music website: https://www.residentadvisor.net.\n",
    "## Objectives\n",
    "\n",
    "You will be able to:\n",
    "* Create a full scraping pipeline that involves traversing over many pages of a website, dealing with errors and storing data"
   ]
  },
  {
   "cell_type": "markdown",
   "metadata": {},
   "source": [
    "## View the Website\n",
    "\n",
    "For this lab, you'll be scraping the https://www.residentadvisor.net website. Start by navigating to the events page [here](https://www.residentadvisor.net/events) in your browser.\n",
    "\n",
    "<img src=\"images/ra.png\">"
   ]
  },
  {
   "cell_type": "code",
   "execution_count": null,
   "metadata": {},
   "outputs": [],
   "source": [
    "# Load the https://www.residentadvisor.net/events page in your browser.\n",
    "# https://www.residentadvisor.net/events/us/michigan"
   ]
  },
  {
   "cell_type": "code",
   "execution_count": null,
   "metadata": {},
   "outputs": [],
   "source": [
    "# <div class=\"clearfix pt1\">"
   ]
  },
  {
   "cell_type": "code",
   "execution_count": 1,
   "metadata": {},
   "outputs": [],
   "source": [
    "from bs4 import BeautifulSoup\n",
    "import requests"
   ]
  },
  {
   "cell_type": "code",
   "execution_count": 6,
   "metadata": {},
   "outputs": [],
   "source": [
    "html_page = requests.get(\"https://www.residentadvisor.net/events/us/michigan\")\n",
    "soup = BeautifulSoup(html_page.content, 'html.parser')"
   ]
  },
  {
   "cell_type": "code",
   "execution_count": 39,
   "metadata": {},
   "outputs": [
    {
     "data": {
      "text/plain": [
       "<bound method Tag.prettify of <div class=\"content clearfix\">\n",
       "<div class=\"plus8\">\n",
       "<div>\n",
       "<script src=\"/bundles/area-country-date-filter-js?v=Q02f5CsIXWPDeOtgJVocYJrwjcQrf96m1qneHFerLLA1\"></script>\n",
       "<ul class=\"clearfix classic\" data-enableevent=\"True\" id=\"ulButtons\">\n",
       "<li class=\"but arrow-down right\" id=\"liCountry\">\n",
       "<input id=\"hdnCountryId\" name=\"ctl00$ctl00$cphContent$_contentmain$ucAreaCountryDateFilter$hdnCountryId\" type=\"hidden\" value=\"2\"/>\n",
       "<span>US</span><input id=\"country-name\" type=\"hidden\" value=\"United States of America\"/><ul class=\"links\" style=\"display: none;\"><li data-id=\"7\"><a href=\"/events\">Canada</a></li><li data-id=\"15\"><a href=\"/events\">France</a></li><li data-id=\"12\"><a href=\"/events\">Germany</a></li><li data-id=\"20\"><a href=\"/events\">Italy</a></li><li data-id=\"6\"><a href=\"/events\">Netherlands</a></li><li data-id=\"5\"><a href=\"/events\">Spain</a></li><li data-id=\"3\"><a href=\"/events\">United Kingdom</a></li><li class=\"selected\" data-id=\"2\"><a href=\"/events\">United States of America</a></li><li data-id=\"0\"><a href=\"/events\">------------</a></li><li data-id=\"99\"><a href=\"/events\">Albania</a></li><li data-id=\"125\"><a href=\"/events\">Algeria</a></li><li data-id=\"113\"><a href=\"/events\">Andorra</a></li><li data-id=\"127\"><a href=\"/events\">Angola</a></li><li data-id=\"140\"><a href=\"/events\">Antigua and Barbuda</a></li><li data-id=\"16\"><a href=\"/events\">Argentina</a></li><li data-id=\"106\"><a href=\"/events\">Armenia</a></li><li data-id=\"1\"><a href=\"/events\">Australia</a></li><li data-id=\"57\"><a href=\"/events\">Austria</a></li><li data-id=\"108\"><a href=\"/events\">Azerbaijan</a></li><li data-id=\"117\"><a href=\"/events\">Bahamas</a></li><li data-id=\"80\"><a href=\"/events\">Bahrain</a></li><li data-id=\"107\"><a href=\"/events\">Bangladesh</a></li><li data-id=\"73\"><a href=\"/events\">Barbados</a></li><li data-id=\"76\"><a href=\"/events\">Belarus</a></li><li data-id=\"29\"><a href=\"/events\">Belgium</a></li><li data-id=\"34\"><a href=\"/events\">Belize</a></li><li data-id=\"141\"><a href=\"/events\">Benin</a></li><li data-id=\"126\"><a href=\"/events\">Bermuda</a></li><li data-id=\"142\"><a href=\"/events\">Bhutan</a></li><li data-id=\"85\"><a href=\"/events\">Bolivia</a></li><li data-id=\"74\"><a href=\"/events\">Bosnia and Herzegovina</a></li><li data-id=\"143\"><a href=\"/events\">Botswana</a></li><li data-id=\"28\"><a href=\"/events\">Brazil</a></li><li data-id=\"47\"><a href=\"/events\">Bulgaria</a></li><li data-id=\"144\"><a href=\"/events\">Burkina Faso</a></li><li data-id=\"110\"><a href=\"/events\">Cambodia</a></li><li data-id=\"145\"><a href=\"/events\">Cameroon</a></li><li data-id=\"7\"><a href=\"/events\">Canada</a></li><li data-id=\"92\"><a href=\"/events\">Cayman Islands</a></li><li data-id=\"25\"><a href=\"/events\">Chile</a></li><li data-id=\"30\"><a href=\"/events\">China</a></li><li data-id=\"59\"><a href=\"/events\">Colombia</a></li><li data-id=\"10\"><a href=\"/events\">Costa Rica</a></li><li data-id=\"146\"><a href=\"/events\">Cote d'Ivoire</a></li><li data-id=\"46\"><a href=\"/events\">Croatia</a></li><li data-id=\"102\"><a href=\"/events\">Cuba</a></li><li data-id=\"129\"><a href=\"/events\">Curacao</a></li><li data-id=\"82\"><a href=\"/events\">Cyprus</a></li><li data-id=\"49\"><a href=\"/events\">Czech Republic</a></li><li data-id=\"147\"><a href=\"/events\">Democratic Republic of the Congo</a></li><li data-id=\"51\"><a href=\"/events\">Denmark</a></li><li data-id=\"66\"><a href=\"/events\">Dominican Republic</a></li><li data-id=\"72\"><a href=\"/events\">Ecuador</a></li><li data-id=\"48\"><a href=\"/events\">Egypt</a></li><li data-id=\"54\"><a href=\"/events\">El Salvador</a></li><li data-id=\"71\"><a href=\"/events\">Estonia</a></li><li data-id=\"160\"><a href=\"/events\">Ethiopia</a></li><li data-id=\"158\"><a href=\"/events\">Fiji</a></li><li data-id=\"41\"><a href=\"/events\">Finland</a></li><li data-id=\"15\"><a href=\"/events\">France</a></li><li data-id=\"148\"><a href=\"/events\">Gambia</a></li><li data-id=\"75\"><a href=\"/events\">Georgia</a></li><li data-id=\"12\"><a href=\"/events\">Germany</a></li><li data-id=\"149\"><a href=\"/events\">Ghana</a></li><li data-id=\"103\"><a href=\"/events\">Gibraltar</a></li><li data-id=\"13\"><a href=\"/events\">Greece</a></li><li data-id=\"116\"><a href=\"/events\">Guam</a></li><li data-id=\"87\"><a href=\"/events\">Guatemala</a></li><li data-id=\"63\"><a href=\"/events\">Honduras</a></li><li data-id=\"39\"><a href=\"/events\">Hungary</a></li><li data-id=\"86\"><a href=\"/events\">Iceland</a></li><li data-id=\"58\"><a href=\"/events\">India</a></li><li data-id=\"37\"><a href=\"/events\">Indonesia</a></li><li data-id=\"91\"><a href=\"/events\">Iran</a></li><li data-id=\"14\"><a href=\"/events\">Ireland</a></li><li data-id=\"8\"><a href=\"/events\">Israel</a></li><li data-id=\"20\"><a href=\"/events\">Italy</a></li><li data-id=\"97\"><a href=\"/events\">Jamaica</a></li><li data-id=\"9\"><a href=\"/events\">Japan</a></li><li data-id=\"77\"><a href=\"/events\">Jordan</a></li><li data-id=\"119\"><a href=\"/events\">Kazakhstan</a></li><li data-id=\"94\"><a href=\"/events\">Kenya</a></li><li data-id=\"131\"><a href=\"/events\">Kosovo</a></li><li data-id=\"101\"><a href=\"/events\">Kuwait</a></li><li data-id=\"150\"><a href=\"/events\">Laos</a></li><li data-id=\"45\"><a href=\"/events\">Latvia</a></li><li data-id=\"53\"><a href=\"/events\">Lebanon</a></li><li data-id=\"43\"><a href=\"/events\">Lithuania</a></li><li data-id=\"84\"><a href=\"/events\">Luxembourg</a></li><li data-id=\"69\"><a href=\"/events\">Macedonia</a></li><li data-id=\"151\"><a href=\"/events\">Madagascar</a></li><li data-id=\"89\"><a href=\"/events\">Malawi</a></li><li data-id=\"11\"><a href=\"/events\">Malaysia</a></li><li data-id=\"60\"><a href=\"/events\">Malta</a></li><li data-id=\"118\"><a href=\"/events\">Mauritius</a></li><li data-id=\"33\"><a href=\"/events\">Mexico</a></li><li data-id=\"83\"><a href=\"/events\">Moldova</a></li><li data-id=\"100\"><a href=\"/events\">Monaco</a></li><li data-id=\"93\"><a href=\"/events\">Mongolia</a></li><li data-id=\"78\"><a href=\"/events\">Montenegro</a></li><li data-id=\"65\"><a href=\"/events\">Morocco</a></li><li data-id=\"123\"><a href=\"/events\">Mozambique</a></li><li data-id=\"130\"><a href=\"/events\">Myanmar</a></li><li data-id=\"112\"><a href=\"/events\">Nepal</a></li><li data-id=\"6\"><a href=\"/events\">Netherlands</a></li><li data-id=\"17\"><a href=\"/events\">New Zealand</a></li><li data-id=\"104\"><a href=\"/events\">Nicaragua</a></li><li data-id=\"120\"><a href=\"/events\">Nigeria</a></li><li data-id=\"23\"><a href=\"/events\">Norway</a></li><li data-id=\"95\"><a href=\"/events\">Oman</a></li><li data-id=\"62\"><a href=\"/events\">Pakistan</a></li><li data-id=\"133\"><a href=\"/events\">Palestine</a></li><li data-id=\"44\"><a href=\"/events\">Panama</a></li><li data-id=\"67\"><a href=\"/events\">Paraguay</a></li><li data-id=\"40\"><a href=\"/events\">Peru</a></li><li data-id=\"64\"><a href=\"/events\">Philippines</a></li><li data-id=\"32\"><a href=\"/events\">Poland</a></li><li data-id=\"21\"><a href=\"/events\">Portugal</a></li><li data-id=\"68\"><a href=\"/events\">Puerto Rico</a></li><li data-id=\"88\"><a href=\"/events\">Qatar</a></li><li data-id=\"18\"><a href=\"/events\">Romania</a></li><li data-id=\"42\"><a href=\"/events\">Russia</a></li><li data-id=\"134\"><a href=\"/events\">Rwanda</a></li><li data-id=\"155\"><a href=\"/events\">Saint Kitts and Nevis</a></li><li data-id=\"154\"><a href=\"/events\">Saint Lucia</a></li><li data-id=\"105\"><a href=\"/events\">Saudi Arabia</a></li><li data-id=\"135\"><a href=\"/events\">Senegal</a></li><li data-id=\"38\"><a href=\"/events\">Serbia</a></li><li data-id=\"98\"><a href=\"/events\">Seychelles</a></li><li data-id=\"19\"><a href=\"/events\">Singapore</a></li><li data-id=\"50\"><a href=\"/events\">Slovakia</a></li><li data-id=\"56\"><a href=\"/events\">Slovenia</a></li><li data-id=\"159\"><a href=\"/events\">Somalia</a></li><li data-id=\"52\"><a href=\"/events\">South Africa</a></li><li data-id=\"36\"><a href=\"/events\">South Korea</a></li><li data-id=\"137\"><a href=\"/events\">South Sudan</a></li><li data-id=\"5\"><a href=\"/events\">Spain</a></li><li data-id=\"114\"><a href=\"/events\">Sri Lanka</a></li><li data-id=\"161\"><a href=\"/events\">Streamland</a></li><li data-id=\"136\"><a href=\"/events\">Sudan</a></li><li data-id=\"24\"><a href=\"/events\">Sweden</a></li><li data-id=\"27\"><a href=\"/events\">Switzerland</a></li><li data-id=\"22\"><a href=\"/events\">Taiwan</a></li><li data-id=\"157\"><a href=\"/events\">Tajikistan</a></li><li data-id=\"109\"><a href=\"/events\">Tanzania</a></li><li data-id=\"31\"><a href=\"/events\">Thailand</a></li><li data-id=\"156\"><a href=\"/events\">Trinidad and Tobago</a></li><li data-id=\"81\"><a href=\"/events\">Tunisia</a></li><li data-id=\"35\"><a href=\"/events\">Turkey</a></li><li data-id=\"124\"><a href=\"/events\">Uganda</a></li><li data-id=\"61\"><a href=\"/events\">Ukraine</a></li><li data-id=\"55\"><a href=\"/events\">United Arab Emirates</a></li><li data-id=\"3\"><a href=\"/events\">United Kingdom</a></li><li class=\"selected\" data-id=\"2\"><a href=\"/events\">United States of America</a></li><li data-id=\"79\"><a href=\"/events\">Uruguay</a></li><li data-id=\"96\"><a href=\"/events\">Uzbekistan</a></li><li data-id=\"70\"><a href=\"/events\">Venezuela</a></li><li data-id=\"90\"><a href=\"/events\">Vietnam</a></li><li data-id=\"128\"><a href=\"/events\">Zimbabwe</a></li></ul>\n",
       "</li>\n",
       "<li class=\"but arrow-down right\" id=\"liArea\">\n",
       "<input id=\"btnArea\" name=\"ctl00$ctl00$cphContent$_contentmain$ucAreaCountryDateFilter$btnArea\" style=\"display:none;\" type=\"submit\" value=\"\">\n",
       "<input id=\"hdnAreaId\" name=\"ctl00$ctl00$cphContent$_contentmain$ucAreaCountryDateFilter$hdnAreaId\" type=\"hidden\" value=\"360\"/>\n",
       "<span>Michigan</span><ul class=\"links\" style=\"display: none;\"><li class=\"parent\" data-id=\"108\"><a href=\"/events\">Alabama</a></li><li class=\"parent\" data-id=\"109\"><a href=\"/events\">Alaska</a></li><li class=\"parent\" data-id=\"102\"><a href=\"/events\">Arizona</a></li><li class=\"parent\" data-id=\"110\"><a href=\"/events\">Arkansas</a></li><li class=\"parent\" data-id=\"308\"><a href=\"/events\">California</a></li><li data-id=\"23\"><a href=\"/events\">   Los Angeles</a></li><li data-id=\"310\"><a href=\"/events\">   Sacramento</a></li><li data-id=\"309\"><a href=\"/events\">   San Diego</a></li><li data-id=\"218\"><a href=\"/events\">   San Francisco</a></li><li class=\"parent\" data-id=\"82\"><a href=\"/events\">Colorado</a></li><li class=\"parent\" data-id=\"111\"><a href=\"/events\">Connecticut</a></li><li class=\"parent\" data-id=\"112\"><a href=\"/events\">Delaware</a></li><li class=\"parent\" data-id=\"317\"><a href=\"/events\">Florida</a></li><li data-id=\"314\"><a href=\"/events\">   Jacksonville</a></li><li data-id=\"38\"><a href=\"/events\">   Miami</a></li><li data-id=\"315\"><a href=\"/events\">   Orlando</a></li><li data-id=\"316\"><a href=\"/events\">   Tampa Bay</a></li><li class=\"parent\" data-id=\"64\"><a href=\"/events\">Georgia</a></li><li class=\"parent\" data-id=\"133\"><a href=\"/events\">Hawaii</a></li><li class=\"parent\" data-id=\"113\"><a href=\"/events\">Idaho</a></li><li class=\"parent\" data-id=\"359\"><a href=\"/events\">Illinois</a></li><li data-id=\"17\"><a href=\"/events\">   Chicago</a></li><li class=\"parent\" data-id=\"85\"><a href=\"/events\">Indiana</a></li><li class=\"parent\" data-id=\"114\"><a href=\"/events\">Iowa</a></li><li class=\"parent\" data-id=\"90\"><a href=\"/events\">Kansas</a></li><li class=\"parent\" data-id=\"115\"><a href=\"/events\">Kentucky</a></li><li class=\"parent\" data-id=\"65\"><a href=\"/events\">Louisiana</a></li><li class=\"parent\" data-id=\"116\"><a href=\"/events\">Maine</a></li><li class=\"parent\" data-id=\"117\"><a href=\"/events\">Maryland</a></li><li class=\"parent\" data-id=\"79\"><a href=\"/events\">Massachusetts</a></li><li class=\"parent selected\" data-id=\"360\"><a href=\"/events\">Michigan</a></li><li data-id=\"19\"><a href=\"/events\">   Detroit</a></li><li class=\"parent\" data-id=\"81\"><a href=\"/events\">Minnesota</a></li><li class=\"parent\" data-id=\"103\"><a href=\"/events\">Mississippi</a></li><li class=\"parent\" data-id=\"118\"><a href=\"/events\">Missouri</a></li><li class=\"parent\" data-id=\"119\"><a href=\"/events\">Montana</a></li><li class=\"parent\" data-id=\"120\"><a href=\"/events\">Nebraska</a></li><li class=\"parent\" data-id=\"47\"><a href=\"/events\">Nevada</a></li><li class=\"parent\" data-id=\"121\"><a href=\"/events\">New Hampshire</a></li><li class=\"parent\" data-id=\"48\"><a href=\"/events\">New Jersey</a></li><li class=\"parent\" data-id=\"122\"><a href=\"/events\">New Mexico</a></li><li class=\"parent\" data-id=\"8\"><a href=\"/events\">New York</a></li><li data-id=\"443\"><a href=\"/events\">   Buffalo/Rochester</a></li><li class=\"parent\" data-id=\"123\"><a href=\"/events\">North Carolina</a></li><li class=\"parent\" data-id=\"124\"><a href=\"/events\">North Dakota</a></li><li class=\"parent\" data-id=\"84\"><a href=\"/events\">Ohio</a></li><li class=\"parent\" data-id=\"104\"><a href=\"/events\">Oklahoma</a></li><li class=\"parent\" data-id=\"410\"><a href=\"/events\">Oregon</a></li><li data-id=\"125\"><a href=\"/events\">   Portland</a></li><li class=\"parent\" data-id=\"80\"><a href=\"/events\">Pennsylvania</a></li><li class=\"parent\" data-id=\"127\"><a href=\"/events\">Rhode Island</a></li><li class=\"parent\" data-id=\"105\"><a href=\"/events\">South Carolina</a></li><li class=\"parent\" data-id=\"128\"><a href=\"/events\">South Dakota</a></li><li class=\"parent\" data-id=\"72\"><a href=\"/events\">Tennessee</a></li><li class=\"parent\" data-id=\"318\"><a href=\"/events\">Texas</a></li><li data-id=\"321\"><a href=\"/events\">   Austin</a></li><li data-id=\"319\"><a href=\"/events\">   Dallas/Fort Worth</a></li><li data-id=\"322\"><a href=\"/events\">   El Paso</a></li><li data-id=\"63\"><a href=\"/events\">   Houston</a></li><li data-id=\"320\"><a href=\"/events\">   San Antonio</a></li><li class=\"parent\" data-id=\"106\"><a href=\"/events\">Utah</a></li><li class=\"parent\" data-id=\"129\"><a href=\"/events\">Vermont</a></li><li class=\"parent\" data-id=\"130\"><a href=\"/events\">Virginia</a></li><li class=\"parent\" data-id=\"22\"><a href=\"/events\">Washington DC</a></li><li class=\"parent\" data-id=\"411\"><a href=\"/events\">Washington State</a></li><li data-id=\"46\"><a href=\"/events\">   Seattle</a></li><li class=\"parent\" data-id=\"131\"><a href=\"/events\">West Virginia</a></li><li class=\"parent\" data-id=\"107\"><a href=\"/events\">Wisconsin</a></li><li class=\"parent\" data-id=\"132\"><a href=\"/events\">Wyoming</a></li></ul>\n",
       "</input></li>\n",
       "<li class=\"but arrow-down right\" id=\"liDate\">\n",
       "<input id=\"btnDateRange\" name=\"ctl00$ctl00$cphContent$_contentmain$ucAreaCountryDateFilter$btnDateRange\" style=\"display:none;\" type=\"submit\" value=\"\"/>\n",
       "<input id=\"hdnDateRange\" name=\"ctl00$ctl00$cphContent$_contentmain$ucAreaCountryDateFilter$hdnDateRange\" type=\"hidden\" value=\"2\"/>\n",
       "<span data-id=\"2\">By week</span><ul class=\"links\" style=\"display: none;\"><li data-id=\"1\"><a href=\"/events/us/michigan/default/0-0-0\">By day</a></li><li class=\"selected\" data-id=\"2\"><a href=\"/events/us/michigan/default/0-0-0\">By week</a></li><li data-id=\"3\"><a href=\"/events/us/michigan/default/0-0-0\">By month</a></li></ul>\n",
       "</li>\n",
       "</ul>\n",
       "</div>\n",
       "<div class=\"fl col4\" id=\"event-listing\">\n",
       "<ul class=\"list\" id=\"items\">\n",
       "<li><p class=\"eventDate date\"><a href=\"/events.aspx?ai=360&amp;v=day&amp;mn=8&amp;yr=2020&amp;dy=13\"><span>Thu, 13 Aug 2020 /</span></a></p></li><li class=\"\"><article class=\"event-item clearfix\" itemscope=\"\" itemtype=\"http://data-vocabulary.org/Event\"><span style=\"display:none;\"><time datetime=\"2020-08-13T00:00\" itemprop=\"startDate\">2020-08-13T00:00</time></span><a href=\"/events/1420700\"><img height=\"76\" src=\"/images/events/flyer/2020/8/us-0813-1420700-list.jpg\" width=\"152\"/></a><div class=\"bbox\"><h1 class=\"event-title\" itemprop=\"summary\"><a href=\"/events/1420700\" itemprop=\"url\" title=\"Event details of Gettoblaster\">Gettoblaster</a> <span>at <a href=\"/club.aspx?id=184007\">The Aretha: Lake Lounge</a>, <a href=\"/events.aspx?ai=19\">Detroit</a></span></h1><div class=\"grey event-lineup\">Sonya Alvarez, Cass</div><p class=\"attending\"><span>1</span> Attending</p></div></article></li><li><p class=\"eventDate date\"><a href=\"/events.aspx?ai=360&amp;v=day&amp;mn=8&amp;yr=2020&amp;dy=15\"><span>Sat, 15 Aug 2020 /</span></a></p></li><li class=\"\"><article class=\"event-item clearfix\" itemscope=\"\" itemtype=\"http://data-vocabulary.org/Event\"><span style=\"display:none;\"><time datetime=\"2020-08-15T00:00\" itemprop=\"startDate\">2020-08-15T00:00</time></span><a href=\"/events/1420698\"><img height=\"76\" src=\"/images/events/flyer/2020/8/us-0815-1420698-list.jpg\" width=\"152\"/></a><div class=\"bbox\"><h1 class=\"event-title\" itemprop=\"summary\"><a href=\"/events/1420698\" itemprop=\"url\" title=\"Event details of Kai Alcé\">Kai Alcé</a> <span>at <a href=\"/club.aspx?id=184007\">The Aretha: Lake Lounge</a>, <a href=\"/events.aspx?ai=19\">Detroit</a></span></h1><div class=\"grey event-lineup\">LadyMonix</div><p class=\"attending\"><span>1</span> Attending</p></div></article></li><li class=\"\"><article class=\"event-item clearfix\" itemscope=\"\" itemtype=\"http://data-vocabulary.org/Event\"><span style=\"display:none;\"><time datetime=\"2020-08-15T00:00\" itemprop=\"startDate\">2020-08-15T00:00</time></span><a href=\"/events/1420702\"><img height=\"76\" src=\"/images/events/flyer/2020/8/us-0815-1420702-list.jpg\" width=\"152\"/></a><div class=\"bbox\"><h1 class=\"event-title\" itemprop=\"summary\"><a href=\"/events/1420702\" itemprop=\"url\" title=\"Event details of Omar S, John FM\">Omar S, John FM</a> <span>at <span class=\"grey\" style=\"display:inline;\">Conant Gardens Party Store</span>, <a href=\"/events.aspx?ai=19\">Detroit</a></span></h1><div class=\"grey event-lineup\">Omar S, John F.M.</div><p class=\"attending\"><span>1</span> Attending</p></div></article></li>\n",
       "</ul>\n",
       "</div>\n",
       "<div class=\"fl col2\" style=\"padding-top: 88px;\">\n",
       "<div class=\"pr8 sticky\">\n",
       "<section id=\"calendar\">\n",
       "<div class=\"h-align\">\n",
       "<h1 class=\"heading\">Calendar</h1>\n",
       "</div>\n",
       "<div id=\"calendar-inner\">\n",
       "<select id=\"ddlCalendarMonth\" name=\"ctl00$ctl00$cphContent$_contentmain$ucCalendar$ddlCalendarMonth\" style=\"width:104px;\">\n",
       "<option value=\"12\">December</option>\n",
       "<option value=\"11\">November</option>\n",
       "<option value=\"10\">October</option>\n",
       "<option value=\"9\">September</option>\n",
       "<option selected=\"selected\" value=\"8\">August</option>\n",
       "<option value=\"7\">July</option>\n",
       "<option value=\"6\">June</option>\n",
       "<option value=\"5\">May</option>\n",
       "<option value=\"4\">April</option>\n",
       "<option value=\"3\">March</option>\n",
       "<option value=\"2\">February</option>\n",
       "<option value=\"1\">January</option>\n",
       "</select>\n",
       "<select id=\"ddlCalendarYear\" name=\"ctl00$ctl00$cphContent$_contentmain$ucCalendar$ddlCalendarYear\">\n",
       "<option selected=\"selected\" value=\"2020\">2020</option>\n",
       "<option value=\"2019\">2019</option>\n",
       "<option value=\"2018\">2018</option>\n",
       "<option value=\"2017\">2017</option>\n",
       "<option value=\"2016\">2016</option>\n",
       "<option value=\"2015\">2015</option>\n",
       "<option value=\"2014\">2014</option>\n",
       "<option value=\"2013\">2013</option>\n",
       "<option value=\"2012\">2012</option>\n",
       "<option value=\"2011\">2011</option>\n",
       "<option value=\"2010\">2010</option>\n",
       "<option value=\"2009\">2009</option>\n",
       "<option value=\"2008\">2008</option>\n",
       "<option value=\"2007\">2007</option>\n",
       "<option value=\"2006\">2006</option>\n",
       "<option value=\"2005\">2005</option>\n",
       "<option value=\"2004\">2004</option>\n",
       "<option value=\"2003\">2003</option>\n",
       "<option value=\"2002\">2002</option>\n",
       "<option value=\"2001\">2001</option>\n",
       "<option value=\"2000\">2000</option>\n",
       "<option value=\"1999\">1999</option>\n",
       "</select>\n",
       "<select id=\"ddlCalendarType\" name=\"ctl00$ctl00$cphContent$_contentmain$ucCalendar$ddlCalendarType\" style=\"width:104px;\">\n",
       "<option value=\"day\">By day</option>\n",
       "<option selected=\"selected\" value=\"week\">By week</option>\n",
       "<option value=\"month\">By month</option>\n",
       "</select>\n",
       "<input id=\"hfCalendarDayOfWeek\" name=\"ctl00$ctl00$cphContent$_contentmain$ucCalendar$hfCalendarDayOfWeek\" type=\"hidden\" value=\"11\"/>\n",
       "<table><tr><th>Sun</th><th>Mon</th><th>Tue</th><th>Wed</th><th>Thu</th><th>Fri</th><th>Sat</th></tr><tr><td><a class=\"day-off\" href=\"/events/us/michigan/week/2020-07-26\">26</a></td><td><a class=\"day-off\" href=\"/events/us/michigan/week/2020-07-27\">27</a></td><td><a class=\"day-off\" href=\"/events/us/michigan/week/2020-07-28\">28</a></td><td><a class=\"day-off\" href=\"/events/us/michigan/week/2020-07-29\">29</a></td><td><a class=\"day-off\" href=\"/events/us/michigan/week/2020-07-30\">30</a></td><td><a class=\"day-off\" href=\"/events/us/michigan/week/2020-07-31\">31</a></td><td><a href=\"/events/us/michigan/week/2020-08-01\">1</a></td></tr><tr><td><a href=\"/events/us/michigan/week/2020-08-02\">2</a></td><td><a href=\"/events/us/michigan/week/2020-08-03\">3</a></td><td><a href=\"/events/us/michigan/week/2020-08-04\">4</a></td><td><a href=\"/events/us/michigan/week/2020-08-05\">5</a></td><td><a href=\"/events/us/michigan/week/2020-08-06\">6</a></td><td><a href=\"/events/us/michigan/week/2020-08-07\">7</a></td><td><a href=\"/events/us/michigan/week/2020-08-08\">8</a></td></tr><tr><td><a href=\"/events/us/michigan/week/2020-08-09\">9</a></td><td><a href=\"/events/us/michigan/week/2020-08-10\">10</a></td><td><span class=\"day-current\">11</span></td><td><a href=\"/events/us/michigan/week/2020-08-12\">12</a></td><td><a href=\"/events/us/michigan/week/2020-08-13\">13</a></td><td><a href=\"/events/us/michigan/week/2020-08-14\">14</a></td><td><a href=\"/events/us/michigan/week/2020-08-15\">15</a></td></tr><tr><td><a href=\"/events/us/michigan/week/2020-08-16\">16</a></td><td><a href=\"/events/us/michigan/week/2020-08-17\">17</a></td><td><a href=\"/events/us/michigan/week/2020-08-18\">18</a></td><td><a href=\"/events/us/michigan/week/2020-08-19\">19</a></td><td><a href=\"/events/us/michigan/week/2020-08-20\">20</a></td><td><a href=\"/events/us/michigan/week/2020-08-21\">21</a></td><td><a href=\"/events/us/michigan/week/2020-08-22\">22</a></td></tr><tr><td><a href=\"/events/us/michigan/week/2020-08-23\">23</a></td><td><a href=\"/events/us/michigan/week/2020-08-24\">24</a></td><td><a href=\"/events/us/michigan/week/2020-08-25\">25</a></td><td><a href=\"/events/us/michigan/week/2020-08-26\">26</a></td><td><a href=\"/events/us/michigan/week/2020-08-27\">27</a></td><td><a href=\"/events/us/michigan/week/2020-08-28\">28</a></td><td><a href=\"/events/us/michigan/week/2020-08-29\">29</a></td></tr><tr><td><a href=\"/events/us/michigan/week/2020-08-30\">30</a></td><td><a href=\"/events/us/michigan/week/2020-08-31\">31</a></td><td><a class=\"day-off\" href=\"/events/us/michigan/week/2020-09-01\">1</a></td><td><a class=\"day-off\" href=\"/events/us/michigan/week/2020-09-02\">2</a></td><td><a class=\"day-off\" href=\"/events/us/michigan/week/2020-09-03\">3</a></td><td><a class=\"day-off\" href=\"/events/us/michigan/week/2020-09-04\">4</a></td><td><a class=\"day-off\" href=\"/events/us/michigan/week/2020-09-05\">5</a></td></tr></table>\n",
       "</div>\n",
       "<script type=\"text/javascript\">\n",
       "\t\t$(\"#ddlCalendarMonth, #ddlCalendarYear, #ddlCalendarType\").change(function () {\n",
       "            var aSearch = location.search.indexOf(\"&\") > 0\n",
       "                ? location.search.split('&')\n",
       "                : \"\";\n",
       "\n",
       "\t\t\tvar sQueryString;\n",
       "\n",
       "            var month = $('#ddlCalendarMonth').val().length === 2\n",
       "                ? $('#ddlCalendarMonth').val()\n",
       "                : \"0\" + $('#ddlCalendarMonth').val();\n",
       "\n",
       "            var day = $('#hfCalendarDayOfWeek').val().length === 2\n",
       "                ? $('#hfCalendarDayOfWeek').val()\n",
       "                : \"0\" + $('#hfCalendarDayOfWeek').val();\n",
       "\n",
       "            var area = $('#liArea span').text().toLowerCase() === 'all'\n",
       "                ? \"\"\n",
       "                : $('#liArea span').text();\n",
       "\n",
       "            var country = area === ''\n",
       "                ? $('#country-name').val()\n",
       "                : $('#liCountry span').text()\n",
       "\n",
       "\t\t\tsQueryString = \"/events/\"\n",
       "                + country.replace(/[^A-Z0-9]/ig, '').toLowerCase() + \"/\"\n",
       "                + area.replace(/[^A-Z0-9À-ž]/ig, '').toLowerCase().normalize(\"NFD\").replace(/[\\u0300-\\u036f]/g, \"\") + \"/\"\n",
       "                + $('#ddlCalendarType').val() + \"/\"\n",
       "\t\t\t\t+ $('#ddlCalendarYear').val() + \"-\"\n",
       "                + month + \"-\"\n",
       "\t\t\t\t+ day;\n",
       "\n",
       "\t\t\tlocation.href = sQueryString;\n",
       "\t\t});\n",
       "\t</script>\n",
       "</section>\n",
       "<div class=\"banner\">\n",
       "<div id=\"pnlMPU\">\n",
       "<div class=\"ad\" id=\"div-gpt-ad-1452773484957-7\" style=\"width: 300px; min-height: 250px; padding-bottom: 10px;\"></div>\n",
       "</div>\n",
       "</div>\n",
       "</div>\n",
       "</div>\n",
       "<div class=\"fl col2 h-align-toplist\">\n",
       "<div class=\"mr8\">\n",
       "<section class=\"top-list generic events\" id=\"toplist\">\n",
       "<h1 class=\"heading\">Top Michigan clubs</h1>\n",
       "<ul>\n",
       "<li><a ga-event-action=\"TV Lounge\" ga-event-category=\"top-clubs\" ga-on=\"click\" href=\"/club.aspx?id=10838\">TV Lounge</a> /</li><li><a ga-event-action=\"Old Miami\" ga-event-category=\"top-clubs\" ga-on=\"click\" href=\"/club.aspx?id=8869\">Old Miami</a> /</li><li><a ga-event-action=\"Marble Bar\" ga-event-category=\"top-clubs\" ga-on=\"click\" href=\"/club.aspx?id=110904\">Marble Bar</a> /</li><li><a ga-event-action=\"Hart Plaza\" ga-event-category=\"top-clubs\" ga-on=\"click\" href=\"/club.aspx?id=2074\">Hart Plaza</a> /</li><li><a ga-event-action=\"Tangent Gallery\" ga-event-category=\"top-clubs\" ga-on=\"click\" href=\"/club.aspx?id=16250\">Tangent Gallery</a> /</li><li><a ga-event-action=\"Leland City Club\" ga-event-category=\"top-clubs\" ga-on=\"click\" href=\"/club.aspx?id=2246\">Leland City Club</a> /</li><li><a ga-event-action=\"Magic Stick\" ga-event-category=\"top-clubs\" ga-on=\"click\" href=\"/club.aspx?id=6199\">Magic Stick</a> /</li><li><a ga-event-action=\"Northern Lights Lounge\" ga-event-category=\"top-clubs\" ga-on=\"click\" href=\"/club.aspx?id=6019\">Northern Lights Lounge</a> /</li><li><a ga-event-action=\"Exodos Lounge\" ga-event-category=\"top-clubs\" ga-on=\"click\" href=\"/club.aspx?id=6189\">Exodos Lounge</a> /</li><li><a ga-event-action=\"Bleu\" ga-event-category=\"top-clubs\" ga-on=\"click\" href=\"/club.aspx?id=1259\">Bleu</a> /</li><li><a ga-event-action=\"The Grasshopper Underground\" ga-event-category=\"top-clubs\" ga-on=\"click\" href=\"/club.aspx?id=73680\">The Grasshopper Underground</a> /</li><li><a ga-event-action=\"Masonic Temple\" ga-event-category=\"top-clubs\" ga-on=\"click\" href=\"/club.aspx?id=1982\">Masonic Temple</a> /</li>\n",
       "</ul>\n",
       "<div class=\"but\"><a ga-event-action=\"see-more\" ga-event-category=\"top-clubs\" ga-on=\"click\" href=\"/clubs.aspx?ai=360\">More Michigan clubs</a></div>\n",
       "</section><section class=\"top-list generic events\" id=\"toplist\">\n",
       "<h1 class=\"heading\">Top 20 regions</h1>\n",
       "<ul>\n",
       "<li><a ga-event-action=\"London\" ga-event-category=\"top-regions\" ga-on=\"click\" href=\"/guide/uk/london\">London, UK</a> /</li><li><a ga-event-action=\"Ibiza\" ga-event-category=\"top-regions\" ga-on=\"click\" href=\"/guide/es/ibiza\">Ibiza, ES</a> /</li><li><a ga-event-action=\"Berlin\" ga-event-category=\"top-regions\" ga-on=\"click\" href=\"/guide/de/berlin\">Berlin, DE</a> /</li><li><a ga-event-action=\"Amsterdam\" ga-event-category=\"top-regions\" ga-on=\"click\" href=\"/guide/nl/amsterdam\">Amsterdam, NL</a> /</li><li><a ga-event-action=\"Tokyo\" ga-event-category=\"top-regions\" ga-on=\"click\" href=\"/guide/jp/tokyo\">Tokyo, JP</a> /</li><li><a ga-event-action=\"All\" ga-event-category=\"top-regions\" ga-on=\"click\" href=\"/guide/streamland\">Streamland</a> /</li><li><a ga-event-action=\"Barcelona\" ga-event-category=\"top-regions\" ga-on=\"click\" href=\"/guide/es/barcelona\">Barcelona, ES</a> /</li><li><a ga-event-action=\"Paris\" ga-event-category=\"top-regions\" ga-on=\"click\" href=\"/guide/fr/paris\">Paris, FR</a> /</li><li><a ga-event-action=\"New York\" ga-event-category=\"top-regions\" ga-on=\"click\" href=\"/guide/us/newyork\">New York, US</a> /</li><li><a ga-event-action=\"South + East\" ga-event-category=\"top-regions\" ga-on=\"click\" href=\"/guide/uk/southeast\">South + East, UK</a> /</li><li><a ga-event-action=\"Prague\" ga-event-category=\"top-regions\" ga-on=\"click\" href=\"/guide/cz/prague\">Prague, CZ</a> /</li><li><a ga-event-action=\"Manchester\" ga-event-category=\"top-regions\" ga-on=\"click\" href=\"/guide/uk/manchester\">Manchester, UK</a> /</li><li><a ga-event-action=\"Midlands\" ga-event-category=\"top-regions\" ga-on=\"click\" href=\"/guide/uk/midlands\">Midlands, UK</a> /</li><li><a ga-event-action=\"Glasgow\" ga-event-category=\"top-regions\" ga-on=\"click\" href=\"/guide/uk/glasgow\">Glasgow, UK</a> /</li><li><a ga-event-action=\"Other regions\" ga-event-category=\"top-regions\" ga-on=\"click\" href=\"/guide/nl/otherregions\">Other regions, NL</a> /</li><li><a ga-event-action=\"North\" ga-event-category=\"top-regions\" ga-on=\"click\" href=\"/guide/uk/north\">North, UK</a> /</li><li><a ga-event-action=\"Budapest\" ga-event-category=\"top-regions\" ga-on=\"click\" href=\"/guide/hu/budapest\">Budapest, HU</a> /</li><li><a ga-event-action=\"Moscow\" ga-event-category=\"top-regions\" ga-on=\"click\" href=\"/guide/ru/moscow\">Moscow, RU</a> /</li><li><a ga-event-action=\"All\" ga-event-category=\"top-regions\" ga-on=\"click\" href=\"/guide/belarus\">Belarus</a> /</li><li><a ga-event-action=\"Liverpool\" ga-event-category=\"top-regions\" ga-on=\"click\" href=\"/guide/uk/liverpool\">Liverpool, UK</a> /</li>\n",
       "</ul>\n",
       "<div class=\"but\"><a ga-event-action=\"see-more\" ga-event-category=\"top-regions\" ga-on=\"click\" href=\"/events.aspx?show=all\">More regions</a></div>\n",
       "</section><div id=\"pnlSkyscraper\">\n",
       "<div class=\"ad mobile-off\" id=\"div-gpt-ad-1452773484957-12\" style=\"width: 160px; height: 600px;\"></div>\n",
       "</div>\n",
       "</div>\n",
       "</div>\n",
       "</div>\n",
       "</div>>"
      ]
     },
     "execution_count": 39,
     "metadata": {},
     "output_type": "execute_result"
    }
   ],
   "source": [
    "main.prettify"
   ]
  },
  {
   "cell_type": "markdown",
   "metadata": {},
   "source": [
    "## Open the Inspect Element Feature\n",
    "\n",
    "Next, open the inspect element feature from your web browser in order to preview the underlying HTML associated with the page."
   ]
  },
  {
   "cell_type": "code",
   "execution_count": null,
   "metadata": {},
   "outputs": [],
   "source": [
    "# Open the inspect element feature in your browser\n",
    "# <p class=\"eventDate date\">"
   ]
  },
  {
   "cell_type": "code",
   "execution_count": 38,
   "metadata": {},
   "outputs": [
    {
     "data": {
      "text/plain": [
       "'Thu, 13 Aug 2020 /'"
      ]
     },
     "execution_count": 38,
     "metadata": {},
     "output_type": "execute_result"
    }
   ],
   "source": [
    "main = soup.find('div', class_=\"content clearfix\")\n",
    "main.findAll('p', class_=\"eventDate date\")[0].find('span').text"
   ]
  },
  {
   "cell_type": "code",
   "execution_count": 41,
   "metadata": {},
   "outputs": [
    {
     "data": {
      "text/plain": [
       "['Thu, 13 Aug 2020', 'Sat, 15 Aug 2020']"
      ]
     },
     "execution_count": 41,
     "metadata": {},
     "output_type": "execute_result"
    }
   ],
   "source": [
    "list = []\n",
    "for element in main.findAll('p', class_=\"eventDate date\"):\n",
    "    date = element.find('span').text\n",
    "    date = date[:-2]\n",
    "    list.append(date)\n",
    "list"
   ]
  },
  {
   "cell_type": "code",
   "execution_count": 82,
   "metadata": {},
   "outputs": [],
   "source": [
    "def get_dates(main):\n",
    "    list = []\n",
    "    for element in main.findAll('p', class_=\"eventDate date\"):\n",
    "        date = element.find('span').text\n",
    "        date = date[:-2]\n",
    "        list.append(date)\n",
    "    return list"
   ]
  },
  {
   "cell_type": "code",
   "execution_count": 49,
   "metadata": {},
   "outputs": [
    {
     "data": {
      "text/plain": [
       "['Thu, 13 Aug 2020', 'Sat, 15 Aug 2020']"
      ]
     },
     "execution_count": 49,
     "metadata": {},
     "output_type": "execute_result"
    }
   ],
   "source": [
    "get_date(main)"
   ]
  },
  {
   "cell_type": "code",
   "execution_count": null,
   "metadata": {},
   "outputs": [],
   "source": [
    "#  <h1 class=\"event-title\" itemprop=\"summary\"><a href=\"/events/1420700\" itemprop=\"url\" \n",
    "# title=\"Event details of Gettoblaster\">Gettoblaster</a> \n",
    "# <span>at <a href=\"/club.aspx?id=184007\">The Aretha: Lake Lounge</a>"
   ]
  },
  {
   "cell_type": "code",
   "execution_count": 55,
   "metadata": {},
   "outputs": [
    {
     "data": {
      "text/plain": [
       "'Kai Alcé'"
      ]
     },
     "execution_count": 55,
     "metadata": {},
     "output_type": "execute_result"
    }
   ],
   "source": [
    "main.findAll('h1', class_=\"event-title\")[1].find('a').text"
   ]
  },
  {
   "cell_type": "code",
   "execution_count": 56,
   "metadata": {},
   "outputs": [],
   "source": [
    "def get_event_names(main):\n",
    "    list = []\n",
    "    for element in main.findAll('h1', class_=\"event-title\"):\n",
    "        name = element.find('a').text\n",
    "        list.append(name)\n",
    "    return list"
   ]
  },
  {
   "cell_type": "code",
   "execution_count": 57,
   "metadata": {},
   "outputs": [
    {
     "data": {
      "text/plain": [
       "['Gettoblaster', 'Kai Alcé', 'Omar S, John FM']"
      ]
     },
     "execution_count": 57,
     "metadata": {},
     "output_type": "execute_result"
    }
   ],
   "source": [
    "get_event_names(main)"
   ]
  },
  {
   "cell_type": "code",
   "execution_count": 61,
   "metadata": {},
   "outputs": [
    {
     "data": {
      "text/plain": [
       "'The Aretha: Lake Lounge'"
      ]
     },
     "execution_count": 61,
     "metadata": {},
     "output_type": "execute_result"
    }
   ],
   "source": [
    "main.findAll('h1', class_=\"event-title\")[1].find('span').find('a').text"
   ]
  },
  {
   "cell_type": "code",
   "execution_count": 62,
   "metadata": {},
   "outputs": [],
   "source": [
    "def get_venues(main):\n",
    "    list = []\n",
    "    for element in main.findAll('h1', class_=\"event-title\"):\n",
    "        venue = element.find('span').find('a').text\n",
    "        list.append(venue)\n",
    "    return list"
   ]
  },
  {
   "cell_type": "code",
   "execution_count": 63,
   "metadata": {},
   "outputs": [
    {
     "data": {
      "text/plain": [
       "['The Aretha: Lake Lounge', 'The Aretha: Lake Lounge', 'Detroit']"
      ]
     },
     "execution_count": 63,
     "metadata": {},
     "output_type": "execute_result"
    }
   ],
   "source": [
    "get_venues(main)"
   ]
  },
  {
   "cell_type": "code",
   "execution_count": 67,
   "metadata": {},
   "outputs": [
    {
     "data": {
      "text/plain": [
       "'1'"
      ]
     },
     "execution_count": 67,
     "metadata": {},
     "output_type": "execute_result"
    }
   ],
   "source": [
    "main.findAll('p', class_=\"attending\")[0].find('span').text"
   ]
  },
  {
   "cell_type": "code",
   "execution_count": 71,
   "metadata": {},
   "outputs": [],
   "source": [
    "def get_num_attendees(main):\n",
    "    list = []\n",
    "    for element in main.findAll('p', class_=\"attending\"):\n",
    "        num = element.find('span').text\n",
    "        list.append(int(num))\n",
    "    return list"
   ]
  },
  {
   "cell_type": "code",
   "execution_count": 72,
   "metadata": {},
   "outputs": [
    {
     "data": {
      "text/plain": [
       "[1, 1, 1]"
      ]
     },
     "execution_count": 72,
     "metadata": {},
     "output_type": "execute_result"
    }
   ],
   "source": [
    "get_num_attendees(main)"
   ]
  },
  {
   "cell_type": "markdown",
   "metadata": {},
   "source": [
    "## Write a Function to Scrape all of the Events on the Given Page Events Page\n",
    "\n",
    "The function should return a Pandas DataFrame with columns for the Event_Name, Venue, Event_Date and Number_of_Attendees."
   ]
  },
  {
   "cell_type": "code",
   "execution_count": 110,
   "metadata": {},
   "outputs": [],
   "source": [
    "import pandas as pd\n",
    "def scrape_events(events_page_url):\n",
    "    html_page = requests.get(events_page_url)\n",
    "    soup = BeautifulSoup(html_page.content, 'html.parser')\n",
    "    main = soup.find('div', class_=\"content clearfix\")\n",
    "    dates = get_dates(main)\n",
    "    dates.append(dates[1]) # I'm cheating here because of the way the dates scraped. \n",
    "    event_names = get_event_names(main)\n",
    "    venues = get_venues(main)\n",
    "    attendees = get_num_attendees(main)\n",
    "    df = pd.DataFrame([event_names, venues, dates, attendees]).transpose()\n",
    "    df.columns = [\"Event_Name\", \"Venue\", \"Event_Date\", \"Number_of_Attendees\"]\n",
    "    return df\n",
    "\n",
    "#     df.columns = [\"Event_Name\", \"Venue\", \"Event_Date\", \"Number_of_Attendees\"]\n",
    "#     return df"
   ]
  },
  {
   "cell_type": "code",
   "execution_count": 111,
   "metadata": {},
   "outputs": [
    {
     "data": {
      "text/html": [
       "<div>\n",
       "<style scoped>\n",
       "    .dataframe tbody tr th:only-of-type {\n",
       "        vertical-align: middle;\n",
       "    }\n",
       "\n",
       "    .dataframe tbody tr th {\n",
       "        vertical-align: top;\n",
       "    }\n",
       "\n",
       "    .dataframe thead th {\n",
       "        text-align: right;\n",
       "    }\n",
       "</style>\n",
       "<table border=\"1\" class=\"dataframe\">\n",
       "  <thead>\n",
       "    <tr style=\"text-align: right;\">\n",
       "      <th></th>\n",
       "      <th>Event_Name</th>\n",
       "      <th>Venue</th>\n",
       "      <th>Event_Date</th>\n",
       "      <th>Number_of_Attendees</th>\n",
       "    </tr>\n",
       "  </thead>\n",
       "  <tbody>\n",
       "    <tr>\n",
       "      <td>0</td>\n",
       "      <td>Gettoblaster</td>\n",
       "      <td>The Aretha: Lake Lounge</td>\n",
       "      <td>Thu, 13 Aug 2020</td>\n",
       "      <td>1</td>\n",
       "    </tr>\n",
       "    <tr>\n",
       "      <td>1</td>\n",
       "      <td>Kai Alcé</td>\n",
       "      <td>The Aretha: Lake Lounge</td>\n",
       "      <td>Sat, 15 Aug 2020</td>\n",
       "      <td>1</td>\n",
       "    </tr>\n",
       "    <tr>\n",
       "      <td>2</td>\n",
       "      <td>Omar S, John FM</td>\n",
       "      <td>Detroit</td>\n",
       "      <td>Sat, 15 Aug 2020</td>\n",
       "      <td>1</td>\n",
       "    </tr>\n",
       "  </tbody>\n",
       "</table>\n",
       "</div>"
      ],
      "text/plain": [
       "        Event_Name                    Venue        Event_Date  \\\n",
       "0     Gettoblaster  The Aretha: Lake Lounge  Thu, 13 Aug 2020   \n",
       "1         Kai Alcé  The Aretha: Lake Lounge  Sat, 15 Aug 2020   \n",
       "2  Omar S, John FM                  Detroit  Sat, 15 Aug 2020   \n",
       "\n",
       "  Number_of_Attendees  \n",
       "0                   1  \n",
       "1                   1  \n",
       "2                   1  "
      ]
     },
     "execution_count": 111,
     "metadata": {},
     "output_type": "execute_result"
    }
   ],
   "source": [
    "scrape_events(\"https://www.residentadvisor.net/events/us/michigan\")"
   ]
  },
  {
   "cell_type": "markdown",
   "metadata": {},
   "source": [
    "## Write a Function to Retrieve the URL for the Next Page"
   ]
  },
  {
   "cell_type": "code",
   "execution_count": null,
   "metadata": {},
   "outputs": [],
   "source": [
    "def next_page(url):\n",
    "    #Your code here\n",
    "    return next_page_url"
   ]
  },
  {
   "cell_type": "markdown",
   "metadata": {},
   "source": [
    "## Scrape the Next 1000 Events for Your Area\n",
    "\n",
    "Display the data sorted by the number of attendees. If there is a tie for the number attending, sort by event date."
   ]
  },
  {
   "cell_type": "code",
   "execution_count": null,
   "metadata": {},
   "outputs": [],
   "source": [
    "#Your code here"
   ]
  },
  {
   "cell_type": "markdown",
   "metadata": {},
   "source": [
    "## Summary \n",
    "\n",
    "Congratulations! In this lab, you successfully developed a pipeline to scrape a website for concert event information!"
   ]
  }
 ],
 "metadata": {
  "kernelspec": {
   "display_name": "Python 3",
   "language": "python",
   "name": "python3"
  },
  "language_info": {
   "codemirror_mode": {
    "name": "ipython",
    "version": 3
   },
   "file_extension": ".py",
   "mimetype": "text/x-python",
   "name": "python",
   "nbconvert_exporter": "python",
   "pygments_lexer": "ipython3",
   "version": "3.6.9"
  }
 },
 "nbformat": 4,
 "nbformat_minor": 2
}
